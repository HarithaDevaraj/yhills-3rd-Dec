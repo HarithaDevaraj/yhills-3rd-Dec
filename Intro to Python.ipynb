{
 "cells": [
  {
   "cell_type": "code",
   "execution_count": 1,
   "id": "8cb91f92",
   "metadata": {},
   "outputs": [
    {
     "name": "stdout",
     "output_type": "stream",
     "text": [
      "hello World\n"
     ]
    }
   ],
   "source": [
    "print(\"hello World\")"
   ]
  },
  {
   "cell_type": "code",
   "execution_count": 2,
   "id": "843ab80d",
   "metadata": {},
   "outputs": [
    {
     "name": "stdout",
     "output_type": "stream",
     "text": [
      "Latha\n"
     ]
    }
   ],
   "source": [
    "print(\"Latha\")"
   ]
  },
  {
   "cell_type": "code",
   "execution_count": 3,
   "id": "e6da0815",
   "metadata": {},
   "outputs": [
    {
     "ename": "NameError",
     "evalue": "name 'Print' is not defined",
     "output_type": "error",
     "traceback": [
      "\u001b[1;31m---------------------------------------------------------------------------\u001b[0m",
      "\u001b[1;31mNameError\u001b[0m                                 Traceback (most recent call last)",
      "Input \u001b[1;32mIn [3]\u001b[0m, in \u001b[0;36m<cell line: 1>\u001b[1;34m()\u001b[0m\n\u001b[1;32m----> 1\u001b[0m \u001b[43mPrint\u001b[49m(\u001b[38;5;124m\"\u001b[39m\u001b[38;5;124mLatha\u001b[39m\u001b[38;5;124m\"\u001b[39m)\n",
      "\u001b[1;31mNameError\u001b[0m: name 'Print' is not defined"
     ]
    }
   ],
   "source": [
    "Print(\"Latha\")"
   ]
  },
  {
   "cell_type": "markdown",
   "id": "73f5c253",
   "metadata": {},
   "source": [
    "### Python is case-sensitive"
   ]
  },
  {
   "cell_type": "code",
   "execution_count": null,
   "id": "2d813859",
   "metadata": {},
   "outputs": [],
   "source": [
    "print(Latha)"
   ]
  },
  {
   "cell_type": "code",
   "execution_count": null,
   "id": "6e19b915",
   "metadata": {},
   "outputs": [],
   "source": [
    "print(10)"
   ]
  },
  {
   "cell_type": "code",
   "execution_count": null,
   "id": "40bb216d",
   "metadata": {},
   "outputs": [],
   "source": [
    "print('Latha')"
   ]
  },
  {
   "cell_type": "markdown",
   "id": "d2f92003",
   "metadata": {},
   "source": [
    "##### String(text) should be in inverted comma"
   ]
  },
  {
   "cell_type": "markdown",
   "id": "949135d1",
   "metadata": {},
   "source": [
    "### Shortcut Keys"
   ]
  },
  {
   "cell_type": "markdown",
   "id": "24f18247",
   "metadata": {},
   "source": [
    "##### Run-> Shift+Enter\n",
    "##### Add a cell above->a\n",
    "##### Add a cell below->b\n",
    "##### Delete a cell->x"
   ]
  },
  {
   "cell_type": "code",
   "execution_count": null,
   "id": "11d81be8",
   "metadata": {},
   "outputs": [],
   "source": [
    "x=10\n",
    "type(x)"
   ]
  },
  {
   "cell_type": "code",
   "execution_count": null,
   "id": "6317bbc4",
   "metadata": {},
   "outputs": [],
   "source": [
    "z=10.5\n",
    "type(z)"
   ]
  },
  {
   "cell_type": "code",
   "execution_count": null,
   "id": "8752fd46",
   "metadata": {},
   "outputs": [],
   "source": [
    "course=\"Data Science\"\n",
    "type(course)"
   ]
  },
  {
   "cell_type": "markdown",
   "id": "d00cd990",
   "metadata": {},
   "source": [
    "### Variables\n"
   ]
  },
  {
   "cell_type": "code",
   "execution_count": null,
   "id": "1851595d",
   "metadata": {},
   "outputs": [],
   "source": [
    "coursenames=\"DS\",\"BA\",\"ML\"\n",
    "coursenames"
   ]
  },
  {
   "cell_type": "code",
   "execution_count": null,
   "id": "f720201e",
   "metadata": {},
   "outputs": [],
   "source": [
    "course names=\"DS\",\"BA\",\"ML\"\n",
    "course names"
   ]
  },
  {
   "cell_type": "code",
   "execution_count": null,
   "id": "8aab0e58",
   "metadata": {},
   "outputs": [],
   "source": [
    "course*names=\"DS\",\"BA\",\"ML\"\n",
    "course*names"
   ]
  },
  {
   "cell_type": "code",
   "execution_count": null,
   "id": "f32c2e65",
   "metadata": {},
   "outputs": [],
   "source": [
    "course_names=\"DS\",\"BA\",\"ML\"\n",
    "course_names"
   ]
  },
  {
   "cell_type": "code",
   "execution_count": null,
   "id": "28780672",
   "metadata": {},
   "outputs": [],
   "source": [
    "3coursenames=\"DS\",\"BA\",\"ML\"\n",
    "3coursenames"
   ]
  },
  {
   "cell_type": "code",
   "execution_count": null,
   "id": "bca7f8c8",
   "metadata": {},
   "outputs": [],
   "source": [
    "c3oursenames=\"DS\",\"BA\",\"ML\"\n",
    "c3oursenames"
   ]
  },
  {
   "cell_type": "markdown",
   "id": "88394121",
   "metadata": {},
   "source": [
    "##### Space is not allowed\n",
    "##### The only allowed spl char is underscore\n",
    "##### Variable name should not start with a number\n",
    "##### It should start with A-Z,a-z or underscore(_)"
   ]
  },
  {
   "cell_type": "code",
   "execution_count": null,
   "id": "9ea456e5",
   "metadata": {},
   "outputs": [],
   "source": []
  }
 ],
 "metadata": {
  "kernelspec": {
   "display_name": "Python 3 (ipykernel)",
   "language": "python",
   "name": "python3"
  },
  "language_info": {
   "codemirror_mode": {
    "name": "ipython",
    "version": 3
   },
   "file_extension": ".py",
   "mimetype": "text/x-python",
   "name": "python",
   "nbconvert_exporter": "python",
   "pygments_lexer": "ipython3",
   "version": "3.9.12"
  }
 },
 "nbformat": 4,
 "nbformat_minor": 5
}
